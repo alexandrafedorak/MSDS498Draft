{
 "cells": [
  {
   "cell_type": "code",
   "execution_count": 1,
   "id": "cb084c7d-c93b-4649-8168-9aae3c773eac",
   "metadata": {},
   "outputs": [
    {
     "name": "stdout",
     "output_type": "stream",
     "text": [
      "   score                                           selftext subreddit  \\\n",
      "0      1  Of Covid-19. Of 2021. Of not getting the vacci...   Anxiety   \n",
      "1      1  i feel like im losing my mind, my health anxie...   Anxiety   \n",
      "2      1  This year I’ve realized I really fear death. M...   Anxiety   \n",
      "3      1  Hiya~ There have been a couple teenagers at wo...   Anxiety   \n",
      "4      1  I need some advice. I have anxiety, and I have...   Anxiety   \n",
      "\n",
      "                                               title       Label  CAT 1  \n",
      "0                                         I'm scared  Early life    NaN  \n",
      "1  experiencing fear so visceral i unlocked memor...  Early life    NaN  \n",
      "2  Fear of dying significantly deteriorating my q...  Early life    NaN  \n",
      "3  I’ve been harassed at work for a couple months...  Early life    NaN  \n",
      "4         Why do I feel like I am constantly dying ?  Early life    NaN  \n"
     ]
    }
   ],
   "source": [
    "import pandas as pd\n",
    "df = pd.read_csv(\"C:/Users/allie/Downloads/archive (1)/Original Reddit Data/Labelled Data/LD EL1.csv\")\n",
    "print(df.head())"
   ]
  },
  {
   "cell_type": "code",
   "execution_count": 2,
   "id": "341db594-cfdd-4f00-9d59-0aa4ba4af186",
   "metadata": {},
   "outputs": [
    {
     "name": "stdout",
     "output_type": "stream",
     "text": [
      "                                                text  label\n",
      "0  I just got home from work and I’m relaxing wit...      0\n",
      "1  Looking forward to the weekend! Planning a tri...      0\n",
      "2  Just watched an amazing movie. Highly recommen...      0\n",
      "3  Had a productive day at work today. Feeling good.      0\n",
      "4  Enjoying some good food and time with family t...      0\n"
     ]
    }
   ],
   "source": [
    "import pandas as pd\n",
    "\n",
    "neutral_samples = [\n",
    "    \"I just got home from work and I’m relaxing with a cup of tea.\",\n",
    "    \"Looking forward to the weekend! Planning a trip with friends.\",\n",
    "    \"Just watched an amazing movie. Highly recommend it!\",\n",
    "    \"Had a productive day at work today. Feeling good.\",\n",
    "    \"Enjoying some good food and time with family tonight.\",\n",
    "    \"Reading a great book before bed. It’s very interesting!\",\n",
    "    \"The weather is beautiful today, perfect for a walk outside.\",\n",
    "    \"Excited for my vacation next month. Need to plan my itinerary.\",\n",
    "    \"Just tried a new coffee shop, and their espresso is amazing!\",\n",
    "    \"Had a casual day today, just catching up on some TV shows.\",\n",
    "    \"Went grocery shopping today and picked up some fresh vegetables.\",\n",
    "    \"Started a new fitness routine this week, and I feel great.\",\n",
    "    \"Trying to cook a new recipe tonight. Hope it turns out well!\",\n",
    "    \"Listening to my favorite music while cleaning the house.\",\n",
    "    \"Planning to go to the beach this weekend with my family.\",\n",
    "    \"Just finished my workout and feeling really accomplished.\",\n",
    "    \"Enjoying a peaceful evening with some candles and soft music.\",\n",
    "    \"Watching a documentary about space. It's so fascinating!\",\n",
    "    \"Had a fun time playing board games with friends tonight.\",\n",
    "    \"Tried a new hobby today—painting! It was really relaxing.\",\n",
    "    \"Looking forward to my birthday next week. Need to plan something fun!\",\n",
    "    \"Had lunch at my favorite restaurant today. The food was delicious!\",\n",
    "    \"Trying to organize my workspace to make it more efficient.\",\n",
    "    \"Went for a jog this morning and enjoyed the fresh air.\",\n",
    "    \"Exploring some new podcasts to listen to on my commute.\",\n",
    "    \"Just upgraded my phone, and I love the new features!\",\n",
    "    \"Spent some time gardening today. It's really calming.\",\n",
    "    \"Started learning a new language online. It's exciting!\",\n",
    "    \"Had a long but productive meeting at work today.\",\n",
    "    \"Finally getting around to watching that TV series everyone talks about.\",\n",
    "    \"My cat has been extra playful today. It's adorable!\",\n",
    "    \"Trying out a new skincare routine. Hope it helps my skin.\",\n",
    "    \"Just signed up for a yoga class. Looking forward to it!\",\n",
    "    \"Cooking dinner while listening to my favorite playlist.\",\n",
    "    \"Reading some interesting articles on technology advancements.\",\n",
    "    \"Took a long walk in the park today and felt so refreshed.\",\n",
    "    \"Planning a small get-together with friends this weekend.\",\n",
    "    \"My morning coffee tasted extra good today. Small joys!\",\n",
    "    \"Spent the afternoon organizing my bookshelves. So satisfying.\",\n",
    "    \"Finally cleaned out my inbox. Feels great to be organized!\",\n",
    "    \"Enjoying a quiet Sunday with a good book and some tea.\",\n",
    "    \"Trying out a new tea flavor. It's surprisingly good!\",\n",
    "    \"Went to a farmer’s market and bought some fresh fruit.\",\n",
    "    \"Had a great conversation with an old friend today.\",\n",
    "    \"Spent some time at the library picking out new books to read.\",\n",
    "    \"Finally got my car washed today. It looks brand new!\",\n",
    "    \"My dog has been so energetic today. Took him on a long walk.\",\n",
    "    \"Enjoyed a relaxing bubble bath after a long day.\",\n",
    "    \"Watching a comedy movie to end the day with some laughs.\",\n",
    "    \"Finally finished a puzzle I’ve been working on for weeks!\",\n",
    "    \"Making a scrapbook with my favorite memories. So nostalgic!\",\n",
    "    \"Signed up for an online course to learn something new.\",\n",
    "    \"Bought some new plants for my home. They brighten up the space!\",\n",
    "    \"Spent the evening sketching. Haven’t done that in a while!\",\n",
    "    \"Tried making homemade pizza tonight. It turned out great!\",\n",
    "    \"Started a new journal. Excited to fill it with thoughts and ideas.\",\n",
    "    \"Had a great discussion at work today about innovative ideas.\",\n",
    "    \"Planning to visit a museum this weekend. Haven’t been in years!\",\n",
    "    \"Just got a new set of headphones. Music sounds amazing now!\",\n",
    "    \"Watched a beautiful sunset this evening.\",\n",
    "    \"Had some fun playing video games with my friends tonight.\",\n",
    "    \"Trying to drink more water and stay hydrated.\",\n",
    "    \"Finally cleaned out my closet. Feels good to declutter!\",\n",
    "    \"Went for a long drive today. It was peaceful.\",\n",
    "    \"My pet has been extra cuddly today. I love it!\",\n",
    "    \"Had a productive day at work. Feeling accomplished!\",\n",
    "    \"Found a new café that serves great desserts.\",\n",
    "    \"Took a relaxing nap this afternoon. Much needed!\",\n",
    "    \"Enjoying the cooler weather lately.\",\n",
    "    \"Starting to plan for my holiday decorations.\",\n",
    "    \"Had a nice conversation with my neighbor today.\",\n",
    "    \"Thinking about trying a new workout class next week.\",\n",
    "    \"Feeling grateful for all the good things in my life.\",\n",
    "    \"Discovered a new band and love their music!\",\n",
    "    \"Just baked some cookies. The house smells amazing!\",\n",
    "    \"Watching old home videos. Such a nostalgic moment!\",\n",
    "    \"Trying to eat healthier this week. Making more home-cooked meals.\",\n",
    "    \"Had a great customer service experience today.\",\n",
    "    \"Went to a bookstore and got lost in the aisles of books.\",\n",
    "    \"The leaves are changing colors, and it looks beautiful outside.\",\n",
    "    \"Taking a break from social media for a few days.\",\n",
    "    \"Finally started watching that documentary I’ve been meaning to see.\",\n",
    "    \"Made a homemade smoothie today. It was delicious!\",\n",
    "    \"Excited to try out a new restaurant this weekend.\",\n",
    "    \"Took my dog to a dog park. He had so much fun!\",\n",
    "    \"Got a new notebook. Love the feeling of fresh pages!\",\n",
    "    \"Enjoying my time off work this week. Much-needed relaxation.\",\n",
    "    \"Trying a new style of clothing. Feels refreshing!\",\n",
    "    \"Signed up for a local charity event. Looking forward to helping out.\",\n",
    "    \"My plants are growing really well. So happy to see them thrive!\",\n",
    "    \"Learning how to play a new musical instrument.\",\n",
    "    \"Took a walk by the lake today. So peaceful!\",\n",
    "    \"Trying to establish a better sleep schedule.\",\n",
    "    \"Looking into some new DIY home projects.\",\n",
    "    \"Having a fun movie night with family.\",\n",
    "    \"Planning a trip to the mountains next month.\",\n",
    "    \"Just downloaded a new mobile game to try out.\",\n",
    "    \"Feeling inspired to start a new creative project!\",\n",
    "    \"Had a fun video call with a friend today.\",\n",
    "    \"Finally replaced my old phone case with a new one.\",\n",
    "    \"Looking into some volunteer opportunities in my community.\",\n",
    "    \"The sky was so clear today. Saw so many stars at night!\",\n",
    "    \"Trying a new productivity method to stay organized.\",\n",
    "    \"Cooked breakfast for my family today. They loved it!\",\n",
    "    \"Rearranged my furniture today. The room feels so different!\",\n",
    "    \"Started using a gratitude journal. Loving the habit!\",\n",
    "    \"Excited to go hiking next weekend!\",\n",
    "    \"Trying out different ways to be more environmentally friendly.\",\n",
    "    \"Signed up for a painting class at a local art studio.\",\n",
    "    \"Starting a new budgeting plan to save money.\",\n",
    "    \"Went to a local farmer's market and bought fresh produce.\",\n",
    "    \"Spent some time learning a new recipe today.\",\n",
    "    \"Finally found time to catch up on my favorite book series.\",\n",
    "    \"Signed up for an online coding course to learn something new.\",\n",
    "    \"Planning my schedule for the upcoming week.\",\n",
    "    \"Trying out different coffee brewing methods at home.\",\n",
    "    \"Decorating my home office to make it more comfortable.\",\n",
    "    \"Getting ready to start a new hobby—thinking about photography.\",\n",
    "    \"Just received a package I’ve been waiting for!\",\n",
    "    \"Went on a spontaneous road trip and it was so much fun.\",\n",
    "    \"Enjoying a quiet morning with my favorite coffee blend.\",\n",
    "    \"Enjoying a peaceful morning with my favorite tea.\",\n",
    "    \"I just finished a great workout and feel energized.\",\n",
    "    \"Spent the afternoon organizing my desk and workspace.\",\n",
    "    \"Looking forward to catching up on my favorite TV show tonight.\",\n",
    "    \"I tried a new pasta recipe today, and it turned out delicious!\",\n",
    "    \"Went to a bookstore and found some interesting reads.\",\n",
    "    \"Had a great time at a local art gallery today.\",\n",
    "    \"Finally started watching that series everyone has been talking about.\",\n",
    "    \"Just bought a new pair of running shoes. Can’t wait to try them out!\",\n",
    "    \"Attended a virtual webinar today and learned something new.\",\n",
    "    \"Had a fun time playing board games with my family.\",\n",
    "    \"Took a long walk in the park and enjoyed the fresh air.\",\n",
    "    \"Went out for ice cream today. It was so refreshing!\",\n",
    "    \"Finally organized my wardrobe and donated some clothes.\",\n",
    "    \"Started planning my next vacation. So many options to consider!\",\n",
    "    \"Exploring new music playlists for a relaxing evening.\",\n",
    "    \"Had a productive morning cleaning up my emails.\",\n",
    "    \"Trying out a new coffee blend today. It has a rich flavor!\",\n",
    "    \"Spent the evening working on a DIY home project.\",\n",
    "    \"Enjoyed a long phone call with an old friend today.\",\n",
    "    \"Finally set up a home workout space. Looking forward to using it!\",\n",
    "    \"Experimenting with digital art for the first time. It’s so fun!\",\n",
    "    \"Visited a local farmers' market and picked up some fresh produce.\",\n",
    "    \"My houseplants are thriving, and I’m so proud of them!\",\n",
    "    \"Signed up for an online meditation class to help me relax.\",\n",
    "    \"Cooking a new dish tonight—excited to see how it turns out!\",\n",
    "    \"Went for a bike ride around the neighborhood.\",\n",
    "    \"Found a great new podcast to listen to on my commute.\",\n",
    "    \"Looking forward to spending the weekend relaxing at home.\",\n",
    "    \"Started reading a new book and I’m already hooked!\",\n",
    "    \"Finally updated my home office setup, and it feels more efficient.\",\n",
    "    \"Took my dog on an extra-long walk today. He loved it!\",\n",
    "    \"Exploring different productivity techniques to improve my workflow.\",\n",
    "    \"Bought a new journal to start writing down my thoughts.\",\n",
    "    \"Listening to an interesting history podcast while making dinner.\",\n",
    "    \"Planning a surprise gift for my best friend’s birthday.\",\n",
    "    \"Rearranged my bedroom and it feels so much cozier now.\",\n",
    "    \"My favorite bakery had a special deal today—got some amazing treats!\",\n",
    "    \"Went to a park and watched the sunset. Such a calming experience.\",\n",
    "    \"Tried a new smoothie recipe and it was surprisingly good!\",\n",
    "    \"Started watching an old classic movie. Loving the cinematography.\",\n",
    "    \"Experimenting with different types of homemade bread.\",\n",
    "    \"Got some new stationery for my desk. Love the fresh start!\",\n",
    "    \"Visited a botanical garden and enjoyed the peaceful atmosphere.\",\n",
    "    \"Spent some time sketching today, which I haven’t done in a while.\",\n",
    "    \"Joined a virtual book club and excited for the first meeting.\",\n",
    "    \"Went on a mini road trip today and discovered a cute coffee shop.\",\n",
    "    \"My neighbor shared some fresh vegetables from their garden with me!\",\n",
    "    \"Made a vision board for my personal goals this year.\",\n",
    "    \"Started journaling every morning and it’s been really helpful.\",\n",
    "    \"Learning how to cook more plant-based meals.\",\n",
    "    \"Trying out different relaxation techniques to improve sleep.\",\n",
    "    \"Signed up for an online photography course.\",\n",
    "    \"Enjoying a slow Sunday morning with my favorite breakfast.\",\n",
    "    \"Finally found time to start a new craft project.\",\n",
    "    \"Took my pet to the groomer today and now they look so fresh!\",\n",
    "    \"Discovered a new walking trail near my house.\",\n",
    "    \"Finally watched a documentary I had been meaning to see.\",\n",
    "    \"Found a new local restaurant with great food and atmosphere.\",\n",
    "    \"Setting up a new weekly meal plan to stay organized.\",\n",
    "    \"Making a playlist of all my favorite songs from the past decade.\",\n",
    "    \"Taking a social media break for the weekend to unwind.\",\n",
    "    \"Looking up new recipes to try for meal prep next week.\",\n",
    "    \"Watching a live concert stream from one of my favorite artists.\",\n",
    "    \"Finally bought a new planner to help with my daily routine.\",\n",
    "    \"Setting up a new study schedule to stay on top of my coursework.\",\n",
    "    \"Planning to visit a museum I haven’t been to before.\",\n",
    "    \"Trying a new way to organize my digital files for work.\",\n",
    "    \"Signed up for a short online course about astronomy!\",\n",
    "    \"Looking forward to a picnic in the park this weekend.\",\n",
    "    \"Trying out different types of tea to find a new favorite.\",\n",
    "    \"Got my car washed today—love the fresh, clean look!\",\n",
    "    \"Enjoying the crisp fall weather and the changing leaves.\",\n",
    "    \"Started a daily gratitude journal and it’s been a great habit.\",\n",
    "    \"Watching some travel vlogs and planning my next adventure.\",\n",
    "    \"Making homemade candles as a fun DIY project.\",\n",
    "    \"Organizing my bookshelf by color—it looks so aesthetic!\",\n",
    "    \"Listening to a relaxing jazz playlist while working.\",\n",
    "    \"Thinking about redecorating my living room with some new plants.\"\n",
    "]\n",
    "\n",
    "\n",
    "neutral_df = pd.DataFrame({\"text\": neutral_samples, \"label\": 0})\n",
    "\n",
    "print(neutral_df.head())\n"
   ]
  },
  {
   "cell_type": "code",
   "execution_count": 3,
   "id": "7ae5a042-7bc5-4656-87bb-3b4a3dc76e66",
   "metadata": {},
   "outputs": [
    {
     "name": "stdout",
     "output_type": "stream",
     "text": [
      "label\n",
      "0    200\n",
      "1    200\n",
      "Name: count, dtype: int64\n"
     ]
    }
   ],
   "source": [
    "distressed_df = df.rename(columns={\"text\": \"text\", \"Label\": \"label\"})\n",
    "distressed_df[\"label\"] = 1 \n",
    "\n",
    "final_df = pd.concat([distressed_df, neutral_df], ignore_index=True)\n",
    "\n",
    "final_df = final_df.sample(frac=1, random_state=42).reset_index(drop=True)\n",
    "\n",
    "print(final_df[\"label\"].value_counts()) \n"
   ]
  },
  {
   "cell_type": "code",
   "execution_count": 4,
   "id": "9e515c24-dcee-472a-aa96-a9b34dda86d3",
   "metadata": {},
   "outputs": [
    {
     "name": "stdout",
     "output_type": "stream",
     "text": [
      "   score                                           selftext     subreddit  \\\n",
      "0    NaN                                                NaN           NaN   \n",
      "1    NaN                                                NaN           NaN   \n",
      "2    1.0  Hey everyone, never thought I would post here ...    depression   \n",
      "3    NaN                                                NaN           NaN   \n",
      "4    1.0  Trigger warning this is a a true story about m...  mentalhealth   \n",
      "\n",
      "                                               title  label  CAT 1  \\\n",
      "0                                                NaN      0    NaN   \n",
      "1                                                NaN      0    NaN   \n",
      "2  I feel completely hopeless and unmotivated to ...      1    NaN   \n",
      "3                                                NaN      0    NaN   \n",
      "4                                  I started cutting      1    NaN   \n",
      "\n",
      "                                                text  \n",
      "0  had a casual day today just catching up on som...  \n",
      "1    taking a break from social media for a few days  \n",
      "2                                                     \n",
      "3  went grocery shopping today and picked up some...  \n",
      "4                                                     \n"
     ]
    }
   ],
   "source": [
    "import re\n",
    "\n",
    "def clean_text(text):\n",
    "    if isinstance(text, float):\n",
    "        text = \"\"\n",
    "    text = str(text) \n",
    "    text = re.sub(r\"http\\S+\", \"\", text)\n",
    "    text = re.sub(r\"[^a-zA-Z\\s]\", \"\", text) \n",
    "    text = text.lower().strip() \n",
    "    return text\n",
    "\n",
    "final_df[\"text\"] = final_df[\"text\"].apply(clean_text)\n",
    "\n",
    "print(final_df.head())\n"
   ]
  },
  {
   "cell_type": "code",
   "execution_count": 5,
   "id": "f6ce4f81-64e0-4afc-885a-ea77c7567260",
   "metadata": {},
   "outputs": [
    {
     "name": "stdout",
     "output_type": "stream",
     "text": [
      "Training size: 320\n",
      "Testing size: 80\n"
     ]
    }
   ],
   "source": [
    "from sklearn.model_selection import train_test_split\n",
    "\n",
    "train_texts, test_texts, train_labels, test_labels = train_test_split(\n",
    "    final_df[\"text\"], final_df[\"label\"], test_size=0.2, random_state=42\n",
    ")\n",
    "\n",
    "print(\"Training size:\", len(train_texts))\n",
    "print(\"Testing size:\", len(test_texts))\n"
   ]
  },
  {
   "cell_type": "code",
   "execution_count": 6,
   "id": "01080fa0-eb40-4728-97c4-42274785c07b",
   "metadata": {},
   "outputs": [],
   "source": [
    "from transformers import BertTokenizer\n",
    "\n",
    "tokenizer = BertTokenizer.from_pretrained(\"bert-base-uncased\")\n",
    "\n",
    "def tokenize_function(batch):\n",
    "    return tokenizer(\n",
    "        batch[\"text\"], \n",
    "        padding=\"max_length\", \n",
    "        truncation=True, \n",
    "        max_length=256, \n",
    "        return_tensors=\"pt\"\n",
    "    )\n"
   ]
  },
  {
   "cell_type": "code",
   "execution_count": 7,
   "id": "c2358247-5845-4e3a-9bc7-028c5ee4bd60",
   "metadata": {},
   "outputs": [],
   "source": [
    "import torch\n",
    "from torch.utils.data import Dataset, DataLoader\n",
    "\n",
    "class RedditDataset(Dataset):\n",
    "    def __init__(self, texts, labels, tokenizer, max_length=256):\n",
    "        self.texts = texts.tolist()\n",
    "        self.labels = labels.tolist()\n",
    "        self.tokenizer = tokenizer\n",
    "        self.max_length = max_length\n",
    "\n",
    "    def __len__(self):\n",
    "        return len(self.texts)\n",
    "\n",
    "    def __getitem__(self, idx):\n",
    "        text = self.texts[idx]\n",
    "        label = self.labels[idx]\n",
    "\n",
    "        encoding = self.tokenizer(\n",
    "            text,\n",
    "            padding=\"max_length\",\n",
    "            truncation=True,\n",
    "            max_length=self.max_length,\n",
    "            return_tensors=\"pt\",\n",
    "        )\n",
    "\n",
    "        return {\n",
    "            \"input_ids\": encoding[\"input_ids\"].squeeze(0),\n",
    "            \"attention_mask\": encoding[\"attention_mask\"].squeeze(0),\n",
    "            \"label\": torch.tensor(label, dtype=torch.long),\n",
    "        }\n",
    "\n",
    "train_dataset = RedditDataset(train_texts, train_labels, tokenizer)\n",
    "test_dataset = RedditDataset(test_texts, test_labels, tokenizer)\n"
   ]
  },
  {
   "cell_type": "code",
   "execution_count": 8,
   "id": "627f8c97-5723-4d0e-9e74-4d7e90059d23",
   "metadata": {},
   "outputs": [],
   "source": [
    "batch_size = 16 \n",
    "train_loader = DataLoader(train_dataset, batch_size=batch_size, shuffle=True)\n",
    "test_loader = DataLoader(test_dataset, batch_size=batch_size)\n"
   ]
  },
  {
   "cell_type": "code",
   "execution_count": 9,
   "id": "4a42e1c4-9c23-4e00-b743-ce3bde09fe4e",
   "metadata": {},
   "outputs": [
    {
     "name": "stderr",
     "output_type": "stream",
     "text": [
      "Some weights of BertForSequenceClassification were not initialized from the model checkpoint at bert-base-uncased and are newly initialized: ['classifier.bias', 'classifier.weight']\n",
      "You should probably TRAIN this model on a down-stream task to be able to use it for predictions and inference.\n"
     ]
    },
    {
     "data": {
      "text/plain": [
       "BertForSequenceClassification(\n",
       "  (bert): BertModel(\n",
       "    (embeddings): BertEmbeddings(\n",
       "      (word_embeddings): Embedding(30522, 768, padding_idx=0)\n",
       "      (position_embeddings): Embedding(512, 768)\n",
       "      (token_type_embeddings): Embedding(2, 768)\n",
       "      (LayerNorm): LayerNorm((768,), eps=1e-12, elementwise_affine=True)\n",
       "      (dropout): Dropout(p=0.1, inplace=False)\n",
       "    )\n",
       "    (encoder): BertEncoder(\n",
       "      (layer): ModuleList(\n",
       "        (0-11): 12 x BertLayer(\n",
       "          (attention): BertAttention(\n",
       "            (self): BertSdpaSelfAttention(\n",
       "              (query): Linear(in_features=768, out_features=768, bias=True)\n",
       "              (key): Linear(in_features=768, out_features=768, bias=True)\n",
       "              (value): Linear(in_features=768, out_features=768, bias=True)\n",
       "              (dropout): Dropout(p=0.1, inplace=False)\n",
       "            )\n",
       "            (output): BertSelfOutput(\n",
       "              (dense): Linear(in_features=768, out_features=768, bias=True)\n",
       "              (LayerNorm): LayerNorm((768,), eps=1e-12, elementwise_affine=True)\n",
       "              (dropout): Dropout(p=0.1, inplace=False)\n",
       "            )\n",
       "          )\n",
       "          (intermediate): BertIntermediate(\n",
       "            (dense): Linear(in_features=768, out_features=3072, bias=True)\n",
       "            (intermediate_act_fn): GELUActivation()\n",
       "          )\n",
       "          (output): BertOutput(\n",
       "            (dense): Linear(in_features=3072, out_features=768, bias=True)\n",
       "            (LayerNorm): LayerNorm((768,), eps=1e-12, elementwise_affine=True)\n",
       "            (dropout): Dropout(p=0.1, inplace=False)\n",
       "          )\n",
       "        )\n",
       "      )\n",
       "    )\n",
       "    (pooler): BertPooler(\n",
       "      (dense): Linear(in_features=768, out_features=768, bias=True)\n",
       "      (activation): Tanh()\n",
       "    )\n",
       "  )\n",
       "  (dropout): Dropout(p=0.1, inplace=False)\n",
       "  (classifier): Linear(in_features=768, out_features=2, bias=True)\n",
       ")"
      ]
     },
     "execution_count": 9,
     "metadata": {},
     "output_type": "execute_result"
    }
   ],
   "source": [
    "from transformers import BertForSequenceClassification\n",
    "\n",
    "model = BertForSequenceClassification.from_pretrained(\"bert-base-uncased\", num_labels=2)\n",
    "\n",
    "device = torch.device(\"cuda\" if torch.cuda.is_available() else \"cpu\")\n",
    "model.to(device)\n"
   ]
  },
  {
   "cell_type": "code",
   "execution_count": 10,
   "id": "fae01968-8928-4128-8b55-39e2e9c93908",
   "metadata": {},
   "outputs": [
    {
     "name": "stderr",
     "output_type": "stream",
     "text": [
      "C:\\Users\\allie\\anaconda3\\Lib\\site-packages\\transformers\\optimization.py:591: FutureWarning: This implementation of AdamW is deprecated and will be removed in a future version. Use the PyTorch implementation torch.optim.AdamW instead, or set `no_deprecation_warning=True` to disable this warning\n",
      "  warnings.warn(\n"
     ]
    }
   ],
   "source": [
    "from transformers import AdamW, get_scheduler\n",
    "\n",
    "optimizer = AdamW(model.parameters(), lr=2e-5)\n",
    "\n",
    "num_training_steps = len(train_loader) * 3\n",
    "lr_scheduler = get_scheduler(\"linear\", optimizer=optimizer, num_warmup_steps=0, num_training_steps=num_training_steps)\n",
    "\n",
    "loss_fn = torch.nn.CrossEntropyLoss()\n"
   ]
  },
  {
   "cell_type": "code",
   "execution_count": 11,
   "id": "5007beb4-4e81-4ec6-9171-520252952a72",
   "metadata": {},
   "outputs": [
    {
     "name": "stdout",
     "output_type": "stream",
     "text": [
      "Epoch 1: Loss = 0.3989, Accuracy = 0.9094\n",
      "Epoch 2: Loss = 0.0977, Accuracy = 0.9969\n",
      "Epoch 3: Loss = 0.0458, Accuracy = 1.0000\n"
     ]
    }
   ],
   "source": [
    "num_epochs = 3 \n",
    "\n",
    "for epoch in range(num_epochs):\n",
    "    model.train()\n",
    "    total_loss, correct, total = 0, 0, 0\n",
    "\n",
    "    for batch in train_loader:\n",
    "        input_ids = batch[\"input_ids\"].to(device)\n",
    "        attention_mask = batch[\"attention_mask\"].to(device)\n",
    "        labels = batch[\"label\"].to(device)\n",
    "\n",
    "        optimizer.zero_grad()\n",
    "        outputs = model(input_ids, attention_mask=attention_mask, labels=labels)\n",
    "        loss = outputs.loss\n",
    "        logits = outputs.logits\n",
    "\n",
    "        loss.backward()\n",
    "        optimizer.step()\n",
    "        lr_scheduler.step()\n",
    "\n",
    "        total_loss += loss.item()\n",
    "        correct += (logits.argmax(dim=1) == labels).sum().item()\n",
    "        total += labels.size(0)\n",
    "\n",
    "    print(f\"Epoch {epoch+1}: Loss = {total_loss/len(train_loader):.4f}, Accuracy = {correct/total:.4f}\")\n"
   ]
  },
  {
   "cell_type": "code",
   "execution_count": 12,
   "id": "d8a0d767-967a-4986-893f-856388d88170",
   "metadata": {},
   "outputs": [
    {
     "name": "stdout",
     "output_type": "stream",
     "text": [
      "Test Accuracy: 1.0\n",
      "Classification Report:\n",
      "               precision    recall  f1-score   support\n",
      "\n",
      "     Neutral       1.00      1.00      1.00        38\n",
      "  Distressed       1.00      1.00      1.00        42\n",
      "\n",
      "    accuracy                           1.00        80\n",
      "   macro avg       1.00      1.00      1.00        80\n",
      "weighted avg       1.00      1.00      1.00        80\n",
      "\n"
     ]
    }
   ],
   "source": [
    "from sklearn.metrics import accuracy_score, classification_report\n",
    "\n",
    "model.eval()\n",
    "all_preds, all_labels = [], []\n",
    "\n",
    "with torch.no_grad():\n",
    "    for batch in test_loader:\n",
    "        input_ids = batch[\"input_ids\"].to(device)\n",
    "        attention_mask = batch[\"attention_mask\"].to(device)\n",
    "        labels = batch[\"label\"].to(device)\n",
    "\n",
    "        outputs = model(input_ids, attention_mask=attention_mask)\n",
    "        preds = outputs.logits.argmax(dim=1).cpu().numpy()\n",
    "        all_preds.extend(preds)\n",
    "        all_labels.extend(labels.cpu().numpy())\n",
    "\n",
    "print(\"Test Accuracy:\", accuracy_score(all_labels, all_preds))\n",
    "print(\"Classification Report:\\n\", classification_report(all_labels, all_preds, target_names=[\"Neutral\", \"Distressed\"]))\n"
   ]
  },
  {
   "cell_type": "code",
   "execution_count": 13,
   "id": "297cc9e8-fc8f-4e8f-808f-8f1c31eb5a23",
   "metadata": {},
   "outputs": [
    {
     "data": {
      "image/png": "[encoded data removed]",
      "text/plain": [
       "<Figure size 640x480 with 2 Axes>"
      ]
     },
     "metadata": {},
     "output_type": "display_data"
    }
   ],
   "source": [
    "import seaborn as sns\n",
    "import matplotlib.pyplot as plt\n",
    "from sklearn.metrics import confusion_matrix\n",
    "\n",
    "cm = confusion_matrix(all_labels, all_preds)\n",
    "sns.heatmap(cm, annot=True, fmt=\"d\", cmap=\"Blues\", xticklabels=[\"Neutral\", \"Distressed\"], yticklabels=[\"Neutral\", \"Distressed\"])\n",
    "plt.xlabel(\"Predicted Label\")\n",
    "plt.ylabel(\"True Label\")\n",
    "plt.title(\"Confusion Matrix\")\n",
    "plt.show()\n"
   ]
  },
  {
   "cell_type": "code",
   "execution_count": 14,
   "id": "81e36cfa-8f60-49de-9c03-aade4c714d13",
   "metadata": {},
   "outputs": [
    {
     "name": "stdout",
     "output_type": "stream",
     "text": [
      "Neutral Data Sample:\n",
      "                                                 text  label\n",
      "0  I just got home from work and I’m relaxing wit...      0\n",
      "1  Looking forward to the weekend! Planning a tri...      0\n",
      "2  Just watched an amazing movie. Highly recommen...      0\n",
      "3  Had a productive day at work today. Feeling good.      0\n",
      "4  Enjoying some good food and time with family t...      0\n",
      "Distressed Data Sample:\n",
      "    score                                           selftext subreddit  \\\n",
      "0      1  Of Covid-19. Of 2021. Of not getting the vacci...   Anxiety   \n",
      "1      1  i feel like im losing my mind, my health anxie...   Anxiety   \n",
      "2      1  This year I’ve realized I really fear death. M...   Anxiety   \n",
      "3      1  Hiya~ There have been a couple teenagers at wo...   Anxiety   \n",
      "4      1  I need some advice. I have anxiety, and I have...   Anxiety   \n",
      "\n",
      "                                               title  label  CAT 1  \n",
      "0                                         I'm scared      1    NaN  \n",
      "1  experiencing fear so visceral i unlocked memor...      1    NaN  \n",
      "2  Fear of dying significantly deteriorating my q...      1    NaN  \n",
      "3  I’ve been harassed at work for a couple months...      1    NaN  \n",
      "4         Why do I feel like I am constantly dying ?      1    NaN  \n"
     ]
    }
   ],
   "source": [
    "import pandas as pd\n",
    "\n",
    "neutral_df = pd.DataFrame({\"text\": neutral_samples, \"label\": 0})\n",
    "\n",
    "distressed_df = distressed_df.rename(columns={\"text\": \"text\", \"Label\": \"label\"}) \n",
    "distressed_df[\"label\"] = 1 \n",
    "\n",
    "print(\"Neutral Data Sample:\\n\", neutral_df.head())\n",
    "print(\"Distressed Data Sample:\\n\", distressed_df.head())\n"
   ]
  },
  {
   "cell_type": "code",
   "execution_count": 15,
   "id": "4e06b36f-6564-49ec-8aa1-8a2f6872cdb7",
   "metadata": {},
   "outputs": [
    {
     "name": "stdout",
     "output_type": "stream",
     "text": [
      "label\n",
      "1    200\n",
      "0    200\n",
      "Name: count, dtype: int64\n"
     ]
    }
   ],
   "source": [
    "from sklearn.utils import shuffle\n",
    "\n",
    "final_df = pd.concat([neutral_df, distressed_df], ignore_index=True)\n",
    "\n",
    "final_df = shuffle(final_df, random_state=42).reset_index(drop=True)\n",
    "\n",
    "print(final_df[\"label\"].value_counts())\n"
   ]
  },
  {
   "cell_type": "code",
   "execution_count": 16,
   "id": "d9e2ba28-aa7c-42a7-bef1-e1e46d8ca852",
   "metadata": {},
   "outputs": [
    {
     "name": "stdout",
     "output_type": "stream",
     "text": [
      "                                                text  label  score  \\\n",
      "0                                                         1    1.0   \n",
      "1                                                         1    1.0   \n",
      "2  cooking dinner while listening to my favorite ...      0    NaN   \n",
      "3                                                         1    1.0   \n",
      "4            looking into some new diy home projects      0    NaN   \n",
      "\n",
      "                                            selftext     subreddit  \\\n",
      "0  just read some reddit post on tifu about some ...       Anxiety   \n",
      "1  i’ve been thinking about transferring to a pub...  mentalhealth   \n",
      "2                                                NaN           NaN   \n",
      "3  Quick background of me. Im 18 and a male.  In ...       Anxiety   \n",
      "4                                                NaN           NaN   \n",
      "\n",
      "                                               title  CAT 1  \n",
      "0  on the brink of a panic attack pls if anyone h...    NaN  \n",
      "1       should i ask my parents to transfer schools?    NaN  \n",
      "2                                                NaN    NaN  \n",
      "3                      Help! My anxiety has mutated.    NaN  \n",
      "4                                                NaN    NaN  \n"
     ]
    }
   ],
   "source": [
    "import re\n",
    "\n",
    "def clean_text(text):\n",
    "    if isinstance(text, float): \n",
    "        text = \"\"\n",
    "    text = str(text)\n",
    "    text = re.sub(r\"http\\S+\", \"\", text) \n",
    "    text = re.sub(r\"[^a-zA-Z\\s]\", \"\", text) \n",
    "    text = text.lower().strip() \n",
    "    return text\n",
    "\n",
    "final_df[\"text\"] = final_df[\"text\"].apply(clean_text)\n",
    "\n",
    "print(final_df.head())\n"
   ]
  },
  {
   "cell_type": "code",
   "execution_count": 17,
   "id": "e64185a0-0271-4070-986a-3f5b733419c0",
   "metadata": {},
   "outputs": [
    {
     "name": "stdout",
     "output_type": "stream",
     "text": [
      "Training samples: 320\n",
      "Testing samples: 80\n"
     ]
    }
   ],
   "source": [
    "from sklearn.model_selection import train_test_split\n",
    "\n",
    "train_texts, test_texts, train_labels, test_labels = train_test_split(\n",
    "    final_df[\"text\"], final_df[\"label\"], test_size=0.2, random_state=42\n",
    ")\n",
    "\n",
    "print(\"Training samples:\", len(train_texts))\n",
    "print(\"Testing samples:\", len(test_texts))\n"
   ]
  },
  {
   "cell_type": "code",
   "execution_count": 18,
   "id": "f9b67a23-6626-4796-b4c3-396493d8fb71",
   "metadata": {},
   "outputs": [],
   "source": [
    "from transformers import BertTokenizer\n",
    "\n",
    "tokenizer = BertTokenizer.from_pretrained(\"bert-base-uncased\")\n",
    "\n",
    "def tokenize_function(batch):\n",
    "    return tokenizer(\n",
    "        batch[\"text\"], \n",
    "        padding=\"max_length\", \n",
    "        truncation=True, \n",
    "        max_length=256, \n",
    "        return_tensors=\"pt\"\n",
    "    )\n"
   ]
  },
  {
   "cell_type": "code",
   "execution_count": 19,
   "id": "47035a40-6b9f-47db-bb1a-972c853f4e8d",
   "metadata": {},
   "outputs": [],
   "source": [
    "import torch\n",
    "from torch.utils.data import Dataset, DataLoader\n",
    "\n",
    "class RedditDataset(Dataset):\n",
    "    def __init__(self, texts, labels, tokenizer, max_length=256):\n",
    "        self.texts = texts.tolist()\n",
    "        self.labels = labels.tolist()\n",
    "        self.tokenizer = tokenizer\n",
    "        self.max_length = max_length\n",
    "\n",
    "    def __len__(self):\n",
    "        return len(self.texts)\n",
    "\n",
    "    def __getitem__(self, idx):\n",
    "        text = self.texts[idx]\n",
    "        label = self.labels[idx]\n",
    "\n",
    "        encoding = self.tokenizer(\n",
    "            text,\n",
    "            padding=\"max_length\",\n",
    "            truncation=True,\n",
    "            max_length=self.max_length,\n",
    "            return_tensors=\"pt\",\n",
    "        )\n",
    "\n",
    "        return {\n",
    "            \"input_ids\": encoding[\"input_ids\"].squeeze(0),\n",
    "            \"attention_mask\": encoding[\"attention_mask\"].squeeze(0),\n",
    "            \"label\": torch.tensor(label, dtype=torch.long),\n",
    "        }\n",
    "\n",
    "train_dataset = RedditDataset(train_texts, train_labels, tokenizer)\n",
    "test_dataset = RedditDataset(test_texts, test_labels, tokenizer)\n"
   ]
  },
  {
   "cell_type": "code",
   "execution_count": 20,
   "id": "2e0c0703-4940-479d-8d08-e44d5d66b825",
   "metadata": {},
   "outputs": [],
   "source": [
    "batch_size = 16 \n",
    "train_loader = DataLoader(train_dataset, batch_size=batch_size, shuffle=True)\n",
    "test_loader = DataLoader(test_dataset, batch_size=batch_size)\n"
   ]
  },
  {
   "cell_type": "code",
   "execution_count": 21,
   "id": "8cd3664e-3399-4ad6-bcc8-2ae856de7437",
   "metadata": {},
   "outputs": [
    {
     "name": "stderr",
     "output_type": "stream",
     "text": [
      "Some weights of BertForSequenceClassification were not initialized from the model checkpoint at bert-base-uncased and are newly initialized: ['classifier.bias', 'classifier.weight']\n",
      "You should probably TRAIN this model on a down-stream task to be able to use it for predictions and inference.\n"
     ]
    },
    {
     "data": {
      "text/plain": [
       "BertForSequenceClassification(\n",
       "  (bert): BertModel(\n",
       "    (embeddings): BertEmbeddings(\n",
       "      (word_embeddings): Embedding(30522, 768, padding_idx=0)\n",
       "      (position_embeddings): Embedding(512, 768)\n",
       "      (token_type_embeddings): Embedding(2, 768)\n",
       "      (LayerNorm): LayerNorm((768,), eps=1e-12, elementwise_affine=True)\n",
       "      (dropout): Dropout(p=0.1, inplace=False)\n",
       "    )\n",
       "    (encoder): BertEncoder(\n",
       "      (layer): ModuleList(\n",
       "        (0-11): 12 x BertLayer(\n",
       "          (attention): BertAttention(\n",
       "            (self): BertSdpaSelfAttention(\n",
       "              (query): Linear(in_features=768, out_features=768, bias=True)\n",
       "              (key): Linear(in_features=768, out_features=768, bias=True)\n",
       "              (value): Linear(in_features=768, out_features=768, bias=True)\n",
       "              (dropout): Dropout(p=0.1, inplace=False)\n",
       "            )\n",
       "            (output): BertSelfOutput(\n",
       "              (dense): Linear(in_features=768, out_features=768, bias=True)\n",
       "              (LayerNorm): LayerNorm((768,), eps=1e-12, elementwise_affine=True)\n",
       "              (dropout): Dropout(p=0.1, inplace=False)\n",
       "            )\n",
       "          )\n",
       "          (intermediate): BertIntermediate(\n",
       "            (dense): Linear(in_features=768, out_features=3072, bias=True)\n",
       "            (intermediate_act_fn): GELUActivation()\n",
       "          )\n",
       "          (output): BertOutput(\n",
       "            (dense): Linear(in_features=3072, out_features=768, bias=True)\n",
       "            (LayerNorm): LayerNorm((768,), eps=1e-12, elementwise_affine=True)\n",
       "            (dropout): Dropout(p=0.1, inplace=False)\n",
       "          )\n",
       "        )\n",
       "      )\n",
       "    )\n",
       "    (pooler): BertPooler(\n",
       "      (dense): Linear(in_features=768, out_features=768, bias=True)\n",
       "      (activation): Tanh()\n",
       "    )\n",
       "  )\n",
       "  (dropout): Dropout(p=0.1, inplace=False)\n",
       "  (classifier): Linear(in_features=768, out_features=2, bias=True)\n",
       ")"
      ]
     },
     "execution_count": 21,
     "metadata": {},
     "output_type": "execute_result"
    }
   ],
   "source": [
    "from transformers import BertForSequenceClassification\n",
    "\n",
    "model = BertForSequenceClassification.from_pretrained(\"bert-base-uncased\", num_labels=2)\n",
    "\n",
    "device = torch.device(\"cuda\" if torch.cuda.is_available() else \"cpu\")\n",
    "model.to(device)\n"
   ]
  },
  {
   "cell_type": "code",
   "execution_count": 22,
   "id": "115274a4-690a-44b9-a52b-1638d55b3ea2",
   "metadata": {},
   "outputs": [
    {
     "name": "stderr",
     "output_type": "stream",
     "text": [
      "C:\\Users\\allie\\anaconda3\\Lib\\site-packages\\transformers\\optimization.py:591: FutureWarning: This implementation of AdamW is deprecated and will be removed in a future version. Use the PyTorch implementation torch.optim.AdamW instead, or set `no_deprecation_warning=True` to disable this warning\n",
      "  warnings.warn(\n"
     ]
    }
   ],
   "source": [
    "from transformers import AdamW, get_scheduler\n",
    "\n",
    "optimizer = AdamW(model.parameters(), lr=2e-5)\n",
    "\n",
    "num_training_steps = len(train_loader) * 3\n",
    "lr_scheduler = get_scheduler(\"linear\", optimizer=optimizer, num_warmup_steps=0, num_training_steps=num_training_steps)\n",
    "\n",
    "loss_fn = torch.nn.CrossEntropyLoss()\n"
   ]
  },
  {
   "cell_type": "code",
   "execution_count": 23,
   "id": "b9ea88fd-f882-4bae-af25-bf88eb21c6da",
   "metadata": {},
   "outputs": [
    {
     "name": "stdout",
     "output_type": "stream",
     "text": [
      "Epoch 1: Loss = 0.3647, Accuracy = 0.9656\n"
     ]
    }
   ],
   "source": [
    "num_epochs = 1\n",
    "\n",
    "for epoch in range(num_epochs):\n",
    "    model.train()\n",
    "    total_loss, correct, total = 0, 0, 0\n",
    "\n",
    "    for batch in train_loader:\n",
    "        input_ids = batch[\"input_ids\"].to(device)\n",
    "        attention_mask = batch[\"attention_mask\"].to(device)\n",
    "        labels = batch[\"label\"].to(device)\n",
    "\n",
    "        optimizer.zero_grad()\n",
    "        outputs = model(input_ids, attention_mask=attention_mask, labels=labels)\n",
    "        loss = outputs.loss\n",
    "        logits = outputs.logits\n",
    "\n",
    "        loss.backward()\n",
    "        optimizer.step()\n",
    "        lr_scheduler.step()\n",
    "\n",
    "        total_loss += loss.item()\n",
    "        correct += (logits.argmax(dim=1) == labels).sum().item()\n",
    "        total += labels.size(0)\n",
    "\n",
    "    print(f\"Epoch {epoch+1}: Loss = {total_loss/len(train_loader):.4f}, Accuracy = {correct/total:.4f}\")\n"
   ]
  },
  {
   "cell_type": "code",
   "execution_count": 24,
   "id": "e3d61be8-429d-4e9e-945f-61d91a1a7cd2",
   "metadata": {},
   "outputs": [
    {
     "name": "stdout",
     "output_type": "stream",
     "text": [
      "Test Accuracy: 1.0\n",
      "Classification Report:\n",
      "               precision    recall  f1-score   support\n",
      "\n",
      "     Neutral       1.00      1.00      1.00        42\n",
      "  Distressed       1.00      1.00      1.00        38\n",
      "\n",
      "    accuracy                           1.00        80\n",
      "   macro avg       1.00      1.00      1.00        80\n",
      "weighted avg       1.00      1.00      1.00        80\n",
      "\n"
     ]
    }
   ],
   "source": [
    "from sklearn.metrics import accuracy_score, classification_report\n",
    "\n",
    "model.eval()\n",
    "all_preds, all_labels = [], []\n",
    "\n",
    "with torch.no_grad():\n",
    "    for batch in test_loader:\n",
    "        input_ids = batch[\"input_ids\"].to(device)\n",
    "        attention_mask = batch[\"attention_mask\"].to(device)\n",
    "        labels = batch[\"label\"].to(device)\n",
    "\n",
    "        outputs = model(input_ids, attention_mask=attention_mask)\n",
    "        preds = outputs.logits.argmax(dim=1).cpu().numpy()\n",
    "        all_preds.extend(preds)\n",
    "        all_labels.extend(labels.cpu().numpy())\n",
    "\n",
    "print(\"Test Accuracy:\", accuracy_score(all_labels, all_preds))\n",
    "print(\"Classification Report:\\n\", classification_report(all_labels, all_preds, target_names=[\"Neutral\", \"Distressed\"]))\n"
   ]
  },
  {
   "cell_type": "code",
   "execution_count": 25,
   "id": "5de37808-f30c-46a8-9e13-6a2d923558cd",
   "metadata": {},
   "outputs": [
    {
     "data": {
      "image/png": "[encoded data removed]",
      "text/plain": [
       "<Figure size 640x480 with 2 Axes>"
      ]
     },
     "metadata": {},
     "output_type": "display_data"
    }
   ],
   "source": [
    "import seaborn as sns\n",
    "import matplotlib.pyplot as plt\n",
    "from sklearn.metrics import confusion_matrix\n",
    "\n",
    "cm = confusion_matrix(all_labels, all_preds)\n",
    "sns.heatmap(cm, annot=True, fmt=\"d\", cmap=\"Blues\", xticklabels=[\"Neutral\", \"Distressed\"], yticklabels=[\"Neutral\", \"Distressed\"])\n",
    "plt.xlabel(\"Predicted Label\")\n",
    "plt.ylabel(\"True Label\")\n",
    "plt.title(\"Confusion Matrix\")\n",
    "plt.show()\n"
   ]
  },
  {
   "cell_type": "code",
   "execution_count": null,
   "id": "08831383-3098-4391-9505-b77d3cb67602",
   "metadata": {},
   "outputs": [],
   "source": []
  }
 ],
 "metadata": {
  "kernelspec": {
   "display_name": "Python 3 (ipykernel)",
   "language": "python",
   "name": "python3"
  },
  "language_info": {
   "codemirror_mode": {
    "name": "ipython",
    "version": 3
   },
   "file_extension": ".py",
   "mimetype": "text/x-python",
   "name": "python",
   "nbconvert_exporter": "python",
   "pygments_lexer": "ipython3",
   "version": "3.11.8"
  }
 },
 "nbformat": 4,
 "nbformat_minor": 5
}
