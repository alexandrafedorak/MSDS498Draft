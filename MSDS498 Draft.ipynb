{
 "cells": [
  {
   "cell_type": "code",
   "execution_count": 1,
   "id": "c7d18850-b963-4329-8dea-b1428a37e54f",
   "metadata": {},
   "outputs": [
    {
     "name": "stdout",
     "output_type": "stream",
     "text": [
      "Requirement already satisfied: numpy==1.24.3 in c:\\users\\allie\\anaconda3\\lib\\site-packages (1.24.3)\n",
      "Note: you may need to restart the kernel to use updated packages.\n"
     ]
    }
   ],
   "source": [
    "pip install numpy==1.24.3"
   ]
  },
  {
   "cell_type": "code",
   "execution_count": 2,
   "id": "fb595bad-15f1-4c5b-a898-d56879d447fe",
   "metadata": {},
   "outputs": [
    {
     "name": "stdout",
     "output_type": "stream",
     "text": [
      "<class 'pandas.core.frame.DataFrame'>\n",
      "RangeIndex: 223 entries, 0 to 222\n",
      "Data columns (total 5 columns):\n",
      " #   Column     Non-Null Count  Dtype  \n",
      "---  ------     --------------  -----  \n",
      " 0   score      200 non-null    float64\n",
      " 1   selftext   200 non-null    object \n",
      " 2   subreddit  200 non-null    object \n",
      " 3   title      200 non-null    object \n",
      " 4   Label      200 non-null    object \n",
      "dtypes: float64(1), object(4)\n",
      "memory usage: 8.8+ KB\n"
     ]
    },
    {
     "data": {
      "text/plain": [
       "(   score                                           selftext subreddit  \\\n",
       " 0    1.0  Tried to watch this documentary “anxious Ameri...   Anxiety   \n",
       " 1    1.0  i’m currently laying in bed wide awake, feelin...   Anxiety   \n",
       " 2    2.0  Second time trying weed. First time felt close...   Anxiety   \n",
       " 3    1.0  I am not posting this for me, but rather for m...   Anxiety   \n",
       " 4    1.0  21 year old male been dealing with anxiety eve...   Anxiety   \n",
       " \n",
       "                                                title             Label  \n",
       " 0                        Do people get over anxiety?  Drug and Alcohol  \n",
       " 1  does anyone else have this big fear of suddenl...  Drug and Alcohol  \n",
       " 2         3 hour long panic attack after trying weed  Drug and Alcohol  \n",
       " 3  Please leave in the comments ANYTHING that has...  Drug and Alcohol  \n",
       " 4                                    Alcohol induced  Drug and Alcohol  ,\n",
       " None)"
      ]
     },
     "execution_count": 2,
     "metadata": {},
     "output_type": "execute_result"
    }
   ],
   "source": [
    "import pandas as pd\n",
    "\n",
    "file_path = 'C:/Users/allie/OneDrive/Documents/MSDS458/LD DA 1.csv'\n",
    "data = pd.read_csv(file_path)\n",
    "\n",
    "data.head(), data.info()"
   ]
  },
  {
   "cell_type": "code",
   "execution_count": 3,
   "id": "3313d361-a7bf-4565-8968-939de84ef2c2",
   "metadata": {},
   "outputs": [
    {
     "data": {
      "text/plain": [
       "(                                                text             Label\n",
       " 0  Do people get over anxiety? Tried to watch thi...  Drug and Alcohol\n",
       " 1  does anyone else have this big fear of suddenl...  Drug and Alcohol\n",
       " 2  3 hour long panic attack after trying weed Sec...  Drug and Alcohol\n",
       " 3  Please leave in the comments ANYTHING that has...  Drug and Alcohol\n",
       " 4  Alcohol induced 21 year old male been dealing ...  Drug and Alcohol,\n",
       " (200, 2))"
      ]
     },
     "execution_count": 3,
     "metadata": {},
     "output_type": "execute_result"
    }
   ],
   "source": [
    "data_cleaned = data.dropna().reset_index(drop=True)\n",
    "\n",
    "data_cleaned['text'] = data_cleaned['title'] + \" \" + data_cleaned['selftext']\n",
    "\n",
    "data_cleaned = data_cleaned[['text', 'Label']] \n",
    "data_cleaned.head(), data_cleaned.shape"
   ]
  },
  {
   "cell_type": "code",
   "execution_count": 4,
   "id": "5d25bb58-917c-491a-913b-7ec98177921f",
   "metadata": {},
   "outputs": [
    {
     "name": "stderr",
     "output_type": "stream",
     "text": [
      "C:\\Users\\allie\\anaconda3\\Lib\\site-packages\\sklearn\\utils\\validation.py:605: FutureWarning: is_sparse is deprecated and will be removed in a future version. Check `isinstance(dtype, pd.SparseDtype)` instead.\n",
      "  if is_sparse(pd_dtype):\n",
      "C:\\Users\\allie\\anaconda3\\Lib\\site-packages\\sklearn\\utils\\validation.py:614: FutureWarning: is_sparse is deprecated and will be removed in a future version. Check `isinstance(dtype, pd.SparseDtype)` instead.\n",
      "  if is_sparse(pd_dtype) or not is_extension_array_dtype(pd_dtype):\n"
     ]
    },
    {
     "data": {
      "text/plain": [
       "((160, 3108), (40, 3108))"
      ]
     },
     "execution_count": 4,
     "metadata": {},
     "output_type": "execute_result"
    }
   ],
   "source": [
    "from sklearn.model_selection import train_test_split\n",
    "from sklearn.feature_extraction.text import TfidfVectorizer\n",
    "from sklearn.preprocessing import LabelEncoder\n",
    "\n",
    "label_encoder = LabelEncoder()\n",
    "data_cleaned['label_encoded'] = label_encoder.fit_transform(data_cleaned['Label'])\n",
    "\n",
    "X_train, X_test, y_train, y_test = train_test_split(\n",
    "    data_cleaned['text'], \n",
    "    data_cleaned['label_encoded'], \n",
    "    test_size=0.2, \n",
    "    random_state=42\n",
    ")\n",
    "\n",
    "vectorizer = TfidfVectorizer(stop_words='english', max_features=5000)\n",
    "X_train_tfidf = vectorizer.fit_transform(X_train)\n",
    "X_test_tfidf = vectorizer.transform(X_test)\n",
    "\n",
    "X_train_tfidf.shape, X_test_tfidf.shape"
   ]
  },
  {
   "cell_type": "code",
   "execution_count": 5,
   "id": "944258d9-8bba-4cf6-907b-46ec378c680a",
   "metadata": {},
   "outputs": [
    {
     "data": {
      "text/plain": [
       "{'input_ids': tensor([[ 101, 3849, 2066,  ..., 3892, 2005,  102],\n",
       "         [ 101, 2151, 6040,  ..., 2531, 1003,  102],\n",
       "         [ 101, 2026, 8837,  ...,    0,    0,    0],\n",
       "         ...,\n",
       "         [ 101, 6517, 1998,  ..., 2026, 2166,  102],\n",
       "         [ 101, 2129, 2000,  ...,    0,    0,    0],\n",
       "         [ 101, 1045, 2626,  ..., 2098, 1012,  102]]),\n",
       " 'attention_mask': tensor([[1, 1, 1,  ..., 1, 1, 1],\n",
       "         [1, 1, 1,  ..., 1, 1, 1],\n",
       "         [1, 1, 1,  ..., 0, 0, 0],\n",
       "         ...,\n",
       "         [1, 1, 1,  ..., 1, 1, 1],\n",
       "         [1, 1, 1,  ..., 0, 0, 0],\n",
       "         [1, 1, 1,  ..., 1, 1, 1]]),\n",
       " 'label': tensor([2, 0, 0, 0, 0, 3, 0, 0, 0, 0, 0, 0, 0, 0, 0, 0, 3, 0, 3, 0, 0, 0, 0, 0,\n",
       "         0, 0, 0, 0, 0, 0, 0, 0])}"
      ]
     },
     "execution_count": 5,
     "metadata": {},
     "output_type": "execute_result"
    }
   ],
   "source": [
    "from transformers import BertTokenizer, BertForSequenceClassification\n",
    "from torch.utils.data import DataLoader, Dataset\n",
    "import torch\n",
    "\n",
    "device = torch.device(\"cuda\" if torch.cuda.is_available() else \"cpu\")\n",
    "\n",
    "tokenizer = BertTokenizer.from_pretrained(\"bert-base-uncased\")\n",
    "\n",
    "class CustomDataset(Dataset):\n",
    "    def __init__(self, texts, labels, tokenizer, max_length=128):\n",
    "        self.texts = texts\n",
    "        self.labels = labels\n",
    "        self.tokenizer = tokenizer\n",
    "        self.max_length = max_length\n",
    "\n",
    "    def __len__(self):\n",
    "        return len(self.texts)\n",
    "\n",
    "    def __getitem__(self, idx):\n",
    "        text = self.texts.iloc[idx]\n",
    "        label = self.labels.iloc[idx]\n",
    "\n",
    "        encoding = self.tokenizer(\n",
    "            text,\n",
    "            max_length=self.max_length,\n",
    "            padding=\"max_length\",\n",
    "            truncation=True,\n",
    "            return_tensors=\"pt\",\n",
    "        )\n",
    "        return {\n",
    "            \"input_ids\": encoding[\"input_ids\"].squeeze(0),\n",
    "            \"attention_mask\": encoding[\"attention_mask\"].squeeze(0),\n",
    "            \"label\": torch.tensor(label, dtype=torch.long),\n",
    "        }\n",
    "\n",
    "train_dataset = CustomDataset(X_train, y_train, tokenizer)\n",
    "test_dataset = CustomDataset(X_test, y_test, tokenizer)\n",
    "\n",
    "batch_size = 32\n",
    "train_loader = DataLoader(train_dataset, batch_size=batch_size, shuffle=True)\n",
    "test_loader = DataLoader(test_dataset, batch_size=batch_size)\n",
    "\n",
    "sample_batch = next(iter(train_loader))\n",
    "sample_batch"
   ]
  },
  {
   "cell_type": "code",
   "execution_count": 6,
   "id": "a100eb88-2b22-4780-9a21-e0e19f3fc116",
   "metadata": {},
   "outputs": [
    {
     "name": "stderr",
     "output_type": "stream",
     "text": [
      "Some weights of DistilBertForSequenceClassification were not initialized from the model checkpoint at distilbert-base-uncased and are newly initialized: ['classifier.bias', 'classifier.weight', 'pre_classifier.bias', 'pre_classifier.weight']\n",
      "You should probably TRAIN this model on a down-stream task to be able to use it for predictions and inference.\n"
     ]
    }
   ],
   "source": [
    "from transformers import DistilBertForSequenceClassification, DistilBertTokenizer\n",
    "import torch\n",
    "\n",
    "tokenizer = DistilBertTokenizer.from_pretrained('distilbert-base-uncased')\n",
    "model = DistilBertForSequenceClassification.from_pretrained('distilbert-base-uncased', num_labels=2) "
   ]
  },
  {
   "cell_type": "code",
   "execution_count": 7,
   "id": "d8a69550-7f13-4df0-b727-a7e133133d27",
   "metadata": {},
   "outputs": [
    {
     "name": "stdout",
     "output_type": "stream",
     "text": [
      "Logits: tensor([[-0.0049, -0.0473],\n",
      "        [-0.0746, -0.0382]])\n",
      "Predictions: tensor([0, 1])\n"
     ]
    }
   ],
   "source": [
    "sample_batch = {\n",
    "    \"input_ids\": torch.tensor([[101, 2023, 2003, 1037, 3978, 102], [101, 2057, 2024, 2495, 2257, 102]]), \n",
    "    \"attention_mask\": torch.tensor([[1, 1, 1, 1, 1, 1], [1, 1, 1, 1, 1, 1]]) \n",
    "}\n",
    "\n",
    "with torch.no_grad(): \n",
    "    outputs = model(input_ids=sample_batch[\"input_ids\"], attention_mask=sample_batch[\"attention_mask\"])\n",
    "\n",
    "logits = outputs.logits\n",
    "predictions = torch.argmax(logits, dim=1)\n",
    "\n",
    "print(\"Logits:\", logits)\n",
    "print(\"Predictions:\", predictions)"
   ]
  },
  {
   "cell_type": "code",
   "execution_count": 8,
   "id": "29f07b18-698e-447b-b1f2-61ee8335dd84",
   "metadata": {},
   "outputs": [
    {
     "name": "stdout",
     "output_type": "stream",
     "text": [
      "Test Predictions: [0 1]\n",
      "Actual Labels: [0, 1]\n",
      "Accuracy: 1.0\n"
     ]
    }
   ],
   "source": [
    "from sklearn.metrics import accuracy_score\n",
    "\n",
    "test_texts = [\"This is a great day!\", \"I feel so sad and distressed.\"]\n",
    "test_labels = [0, 1] \n",
    "\n",
    "encoded = tokenizer(test_texts, padding=True, truncation=True, return_tensors=\"pt\")\n",
    "\n",
    "with torch.no_grad():\n",
    "    test_outputs = model(input_ids=encoded[\"input_ids\"], attention_mask=encoded[\"attention_mask\"])\n",
    "\n",
    "test_logits = test_outputs.logits\n",
    "test_preds = torch.argmax(test_logits, dim=1).numpy()\n",
    "\n",
    "accuracy = accuracy_score(test_labels, test_preds)\n",
    "\n",
    "print(\"Test Predictions:\", test_preds)\n",
    "print(\"Actual Labels:\", test_labels)\n",
    "print(\"Accuracy:\", accuracy)"
   ]
  },
  {
   "cell_type": "code",
   "execution_count": 9,
   "id": "1107fdc9-3280-4f06-b49c-0abfba843641",
   "metadata": {},
   "outputs": [
    {
     "name": "stdout",
     "output_type": "stream",
     "text": [
      "Model Evaluation Metrics:\n",
      "\n",
      "Accuracy: 0.50\n",
      "Classification Report:\n",
      "\n",
      "              precision    recall  f1-score   support\n",
      "\n",
      "     Class 0       0.50      1.00      0.67         1\n",
      "     Class 1       0.00      0.00      0.00         1\n",
      "\n",
      "    accuracy                           0.50         2\n",
      "   macro avg       0.25      0.50      0.33         2\n",
      "weighted avg       0.25      0.50      0.33         2\n",
      "\n"
     ]
    },
    {
     "name": "stderr",
     "output_type": "stream",
     "text": [
      "C:\\Users\\allie\\anaconda3\\Lib\\site-packages\\sklearn\\metrics\\_classification.py:1344: UndefinedMetricWarning: Precision and F-score are ill-defined and being set to 0.0 in labels with no predicted samples. Use `zero_division` parameter to control this behavior.\n",
      "  _warn_prf(average, modifier, msg_start, len(result))\n",
      "C:\\Users\\allie\\anaconda3\\Lib\\site-packages\\sklearn\\metrics\\_classification.py:1344: UndefinedMetricWarning: Precision and F-score are ill-defined and being set to 0.0 in labels with no predicted samples. Use `zero_division` parameter to control this behavior.\n",
      "  _warn_prf(average, modifier, msg_start, len(result))\n",
      "C:\\Users\\allie\\anaconda3\\Lib\\site-packages\\sklearn\\metrics\\_classification.py:1344: UndefinedMetricWarning: Precision and F-score are ill-defined and being set to 0.0 in labels with no predicted samples. Use `zero_division` parameter to control this behavior.\n",
      "  _warn_prf(average, modifier, msg_start, len(result))\n"
     ]
    }
   ],
   "source": [
    "from sklearn.metrics import classification_report, accuracy_score\n",
    "\n",
    "true_labels = [0, 1] \n",
    "predicted_labels = [0, 0]\n",
    "\n",
    "accuracy = accuracy_score(true_labels, predicted_labels)\n",
    "\n",
    "report = classification_report(true_labels, predicted_labels, target_names=['Class 0', 'Class 1'])\n",
    "\n",
    "print(\"Model Evaluation Metrics:\\n\")\n",
    "print(f\"Accuracy: {accuracy:.2f}\")\n",
    "print(\"Classification Report:\\n\")\n",
    "print(report)"
   ]
  },
  {
   "cell_type": "code",
   "execution_count": 10,
   "id": "edd9a563-3b0b-460b-9ad1-34ab383d3665",
   "metadata": {},
   "outputs": [
    {
     "data": {
      "image/png": "[encoded data removed]",
      "text/plain": [
       "<Figure size 640x480 with 2 Axes>"
      ]
     },
     "metadata": {},
     "output_type": "display_data"
    }
   ],
   "source": [
    "import matplotlib.pyplot as plt\n",
    "from sklearn.metrics import confusion_matrix, ConfusionMatrixDisplay\n",
    "\n",
    "# Compute confusion matrix\n",
    "cm = confusion_matrix(true_labels, predicted_labels)\n",
    "\n",
    "# Plot confusion matrix\n",
    "disp = ConfusionMatrixDisplay(confusion_matrix=cm, display_labels=['Neutral', 'Distress'])\n",
    "disp.plot(cmap=plt.cm.Blues)\n",
    "\n",
    "plt.title(\"Confusion Matrix\")\n",
    "plt.xlabel(\"Predicted Labels\")\n",
    "plt.ylabel(\"True Labels\")\n",
    "plt.show()\n"
   ]
  },
  {
   "cell_type": "code",
   "execution_count": null,
   "id": "367d50e6-f783-4bc8-9a43-b4e8dacf02ed",
   "metadata": {},
   "outputs": [],
   "source": []
  }
 ],
 "metadata": {
  "kernelspec": {
   "display_name": "Python 3 (ipykernel)",
   "language": "python",
   "name": "python3"
  },
  "language_info": {
   "codemirror_mode": {
    "name": "ipython",
    "version": 3
   },
   "file_extension": ".py",
   "mimetype": "text/x-python",
   "name": "python",
   "nbconvert_exporter": "python",
   "pygments_lexer": "ipython3",
   "version": "3.11.8"
  }
 },
 "nbformat": 4,
 "nbformat_minor": 5
}
